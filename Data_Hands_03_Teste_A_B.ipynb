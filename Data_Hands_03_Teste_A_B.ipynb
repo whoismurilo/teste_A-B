{
  "nbformat": 4,
  "nbformat_minor": 0,
  "metadata": {
    "colab": {
      "name": "Data Hands #03 - Teste A/B",
      "provenance": [],
      "collapsed_sections": []
    },
    "kernelspec": {
      "name": "python3",
      "display_name": "Python 3"
    }
  },
  "cells": [
    {
      "cell_type": "markdown",
      "metadata": {
        "id": "M9Z25c_F4abd"
      },
      "source": [
        "<p align=\"center\"><img src=\"https://lp.eloscience.com/wp-content/uploads/2021/01/data-hands.png\" width=\"60%\"></p>"
      ]
    },
    {
      "cell_type": "markdown",
      "metadata": {
        "id": "CXDizRv642_j"
      },
      "source": [
        "#**Importância do teste A / B em Python**\n",
        "Usando Python para determinar o quão confiantes estamos em nossos resultados de teste A / B\n",
        "\n",
        "---\n"
      ]
    },
    {
      "cell_type": "markdown",
      "metadata": {
        "id": "Cc0JfeX4AqRV"
      },
      "source": [
        "#1.0 - O que é um teste AB?\n",
        "Imagine que você está encarregado de um site para otimizar as vendas. Você tem a versão atual do site, mas não está satisfeito com ela. O botão “Comprar” não é óbvio para o usuário, está escondido, então você deve tentar torná-lo maior e mais brilhante, talvez isso aumente a conversão. Mas você também se preocupa com o rigor estatístico. Assim, você configura seu site de forma que metade das pessoas seja direcionada ao site antigo e a outra metade para aquele onde você fez a alteração. Você tem dados de ambos e deseja saber, com segurança, \"A alteração que fiz aumentou a conversão?\" ."
      ]
    },
    {
      "cell_type": "markdown",
      "metadata": {
        "id": "e6aV3bvNAqCB"
      },
      "source": [
        "<br>\n",
        "<br>\n",
        "<p align=\"center\"><img src=\"https://lp.eloscience.com/wp-content/uploads/2021/01/Sem-título-3.png\" width=\"50%\"></p>\n",
        "\n",
        "<br>\n",
        "<br>"
      ]
    },
    {
      "cell_type": "markdown",
      "metadata": {
        "id": "BPlh1dT0Bf8y"
      },
      "source": [
        "Este é um teste A / B. Freqüentemente, isso é usado de forma intercambiável com o termo “teste de divisão”, embora em geral os testes A / B testem pequenas mudanças, e o teste de divisão pode ser quando você apresenta dois sites totalmente diferentes para o usuário.\n",
        "\n"
      ]
    },
    {
      "cell_type": "markdown",
      "metadata": {
        "id": "x9yhJEQwBf6n"
      },
      "source": [
        "##1.1 - Por que não mudar o site e monitorá-lo por uma semana? \n",
        "Boa pergunta - tendo dois sites ativos ao mesmo tempo e direcionando usuários aleatoriamente para um ou outro, você controla todas as outras variáveis. Se uma semana depois o colocar na semana anterior ao Natal, isso afetará as vendas e você poderá tirar uma conclusão errada por causa desses efeitos confusos."
      ]
    },
    {
      "cell_type": "markdown",
      "metadata": {
        "id": "rxcGDf5cBf4F"
      },
      "source": [
        "##1.2 - Por que não é um teste A / B / C?\n",
        "Bem, você pode ter quantas variações quiser, mas deve manter o nome simples. Porém, quanto mais variações você tentar, menor será o número de amostras que você terá para cada caso e mais difícil será tirar conclusões estatisticamente significativas.\n",
        "\n",
        "Agora, os testes A / B podem testar o que você quiser, mas os mais comuns são cliques / conversão, taxa de rejeição e quanto tempo você passa na página. Para este exemplo, vamos supor que queremos otimizar a conversão, que em nosso caso é clicar no botão “Comprar” acima.\n",
        "\n",
        "Suponhamos que você tenha **1.000** usuários, **550** foram direcionados para o site **A**, **450** para o site **B**. No site **A**, **48** usuários foram convertidos. No site **B**, **56** usuários converteram. **Este é um resultado estatisticamente significativo?**"
      ]
    },
    {
      "cell_type": "code",
      "metadata": {
        "id": "DyL7QJn2E7ZN"
      },
      "source": [
        "num_a, num_b = 550, 450\n",
        "click_a, click_b = 48, 56\n",
        "rate_a, rate_b = click_a / num_a, click_b / num_b"
      ],
      "execution_count": null,
      "outputs": []
    },
    {
      "cell_type": "code",
      "metadata": {
        "colab": {
          "base_uri": "https://localhost:8080/"
        },
        "id": "aPss8MwwFWF_",
        "outputId": "2f10841c-9974-43a3-b701-273e1a168501"
      },
      "source": [
        "rate_a * 100, rate_b * 100"
      ],
      "execution_count": null,
      "outputs": [
        {
          "output_type": "execute_result",
          "data": {
            "text/plain": [
              "(8.727272727272728, 12.444444444444445)"
            ]
          },
          "metadata": {
            "tags": []
          },
          "execution_count": 7
        }
      ]
    },
    {
      "cell_type": "markdown",
      "metadata": {
        "id": "CS4Nr8ocFzaR"
      },
      "source": [
        "#2.0 - Modelagem de clique\n",
        "Você pode clicar em um botão ou não. Duas opções discretas estão disponíveis, portanto, esta é uma distribuição binomial de livro didático, com alguma taxa desconhecida para o site A e o site B. Não sabemos a taxa de cliques real, mas podemos estimá-la usando nossa pequena amostra.\n",
        "\n"
      ]
    },
    {
      "cell_type": "code",
      "metadata": {
        "id": "exIed5zNFY3H"
      },
      "source": [
        "import matplotlib.pyplot as plt\n",
        "from scipy.stats import binom\n",
        "import numpy as np"
      ],
      "execution_count": null,
      "outputs": []
    },
    {
      "cell_type": "markdown",
      "metadata": {
        "id": "RN5LOdroGgkP"
      },
      "source": [
        "Agora, precisamos determinar a probabilidade de ter x número de cliques."
      ]
    },
    {
      "cell_type": "code",
      "metadata": {
        "id": "ltMMHKdmGTpI"
      },
      "source": [
        "clicks = np.arange(20, 80)\n",
        "prob_a = binom(num_a, rate_a).pmf(clicks)\n",
        "prob_b = binom(num_b, rate_b).pmf(clicks)"
      ],
      "execution_count": null,
      "outputs": []
    },
    {
      "cell_type": "markdown",
      "metadata": {
        "id": "aJ4tyWH4HJph"
      },
      "source": [
        "Após a criação de uma matriz uniforme e de calcular a probalidade usando a função `.pmf()`, vamos criar um gráfico para mostrar essa distribuição."
      ]
    },
    {
      "cell_type": "code",
      "metadata": {
        "colab": {
          "base_uri": "https://localhost:8080/",
          "height": 279
        },
        "id": "4wCSYBMjHKFH",
        "outputId": "83ab8dee-319f-461b-d529-4340150a42d9"
      },
      "source": [
        "plt.bar(clicks, prob_a, label=\"A\", alpha=0.7)\n",
        "plt.bar(clicks, prob_b, label=\"B\", alpha=0.7)\n",
        "plt.legend()\n",
        "plt.xlabel(\"Num conversões\"); plt.ylabel(\"Probabilidade\");"
      ],
      "execution_count": null,
      "outputs": [
        {
          "output_type": "display_data",
          "data": {
            "image/png": "[encoded data removed]",
            "text/plain": [
              "<Figure size 432x288 with 1 Axes>"
            ]
          },
          "metadata": {
            "tags": [],
            "needs_background": "light"
          }
        }
      ]
    },
    {
      "cell_type": "markdown",
      "metadata": {
        "id": "HbaOmOzbI1Wz"
      },
      "source": [
        "Portanto, podemos ver aqui que b tem uma diferença, mas é certamente possível se escolhermos dois pontos aleatórios de acordo com os histogramas de A e B, que A pode realmente ser maior do que B!"
      ]
    },
    {
      "cell_type": "markdown",
      "metadata": {
        "id": "8Fe7iv_tJRWt"
      },
      "source": [
        "# 3.0 - Usando Distribuição Normal\n",
        "Nós podemos trabalhar com distribuições de Poisson no caso de querermos saber “Quanto tempo você ficou no site?”. Poderíamos trocar para cada questão... ou podemos invocar o Teorema do Limite Central. Como estamos interessados ​​na conversão média , ou tempo médio gasto no site, essa média de uma distribuição subjacente significa que nossa estimativa final será bem aproximada por uma distribuição normal."
      ]
    },
    {
      "cell_type": "markdown",
      "metadata": {
        "id": "mKx-Zh67J3PN"
      },
      "source": [
        "Então, vamos reformular, [usando a aproximação normal aqui](https://en.wikipedia.org/wiki/Binomial_distribution#Normal_approximation):"
      ]
    },
    {
      "cell_type": "code",
      "metadata": {
        "id": "u7zV9uvQJ-H-"
      },
      "source": [
        "from scipy.stats import norm\n",
        "\n",
        "#De onde isto vem? Veja o link acima.\n",
        "std_a = np.sqrt(rate_a * (1 - rate_a) / num_a)\n",
        "std_b = np.sqrt(rate_b * (1 - rate_b) / num_b)"
      ],
      "execution_count": null,
      "outputs": []
    },
    {
      "cell_type": "code",
      "metadata": {
        "id": "6UarfiOrLNMw"
      },
      "source": [
        "click_rate = np.linspace(0, 0.2, 200)\n",
        "prob_a = norm(rate_a, std_a).pdf(click_rate)\n",
        "prob_b = norm(rate_b, std_b).pdf(click_rate)"
      ],
      "execution_count": null,
      "outputs": []
    },
    {
      "cell_type": "code",
      "metadata": {
        "colab": {
          "base_uri": "https://localhost:8080/",
          "height": 279
        },
        "id": "dHNtuteNLPkz",
        "outputId": "13473df7-f150-4c30-b678-82ae9b97437e"
      },
      "source": [
        "#Fazemos o Gráfico de Barras.\n",
        "plt.plot(click_rate, prob_a, label=\"A\")\n",
        "plt.plot(click_rate, prob_b, label=\"B\")\n",
        "plt.legend(frameon=False)\n",
        "plt.xlabel(\"Taxa de Conversão\"); plt.ylabel(\"Probabilidade\");"
      ],
      "execution_count": null,
      "outputs": [
        {
          "output_type": "display_data",
          "data": {
            "image/png": "[encoded data removed]",
            "text/plain": [
              "<Figure size 432x288 with 1 Axes>"
            ]
          },
          "metadata": {
            "tags": [],
            "needs_background": "light"
          }
        }
      ]
    },
    {
      "cell_type": "markdown",
      "metadata": {
        "id": "wmCBsxXiNbb9"
      },
      "source": [
        "Este também é um gráfico melhor do que o primeiro, porque removemos o efeito confuso de o site A e o site B terem um número ligeiramente diferente de visitantes. Portanto, nossa pergunta ainda é a mesma: Qual é a chance de um empate de B ser maior do que um empate de A. **Isso é significativo?**"
      ]
    },
    {
      "cell_type": "markdown",
      "metadata": {
        "id": "VMCi6LdvN2bo"
      },
      "source": [
        "Para responder a isso, vamos utilizar o fato prático de que a soma (ou diferença) de números aleatórios normalmente distribuídos também é normal. [Veja aqui a prova](https://en.wikipedia.org/wiki/Sum_of_normally_distributed_random_variables#Independent_random_variables), mas a matemática é a seguinte:"
      ]
    },
    {
      "cell_type": "markdown",
      "metadata": {
        "id": "MlMIcjWHOx_4"
      },
      "source": [
        "<br>\n",
        "<br>\n",
        "<p align=\"center\"><img src=\"https://lp.eloscience.com/wp-content/uploads/2021/01/Screen-Shot-2021-01-05-at-15.45.16.png\" width=\"50%\"></p>\n",
        "\n",
        "<br>\n",
        "<br>\n"
      ]
    },
    {
      "cell_type": "markdown",
      "metadata": {
        "id": "kPFuSPZ9PRJl"
      },
      "source": [
        "Isso é simples - pegue a diferença nas médias e some a variância. Faremos duas coisas a seguir: primeiro, obtenha a pontuação z e, em segundo lugar, trace a distribuição adequada."
      ]
    },
    {
      "cell_type": "code",
      "metadata": {
        "colab": {
          "base_uri": "https://localhost:8080/",
          "height": 296
        },
        "id": "zdN9U9ceN2_U",
        "outputId": "f8d8785c-2315-4248-dc69-b296969563c5"
      },
      "source": [
        "z_score = (rate_b - rate_a) / np.sqrt(std_a**2 + std_b**2)\n",
        "p = norm(rate_b - rate_a, np.sqrt(std_a**2 + std_b**2))\n",
        "\n",
        "x = np.linspace(-0.05, 0.15, 1000)\n",
        "y = p.pdf(x)\n",
        "area_under_curve = p.sf(0)\n",
        "plt.plot(x, y, label=\"PDF\")\n",
        "plt.fill_between(x, 0, y, where=x>0, label=\"Prob(b>a)\", alpha=0.3)\n",
        "plt.annotate(f\"Area={area_under_curve:0.3f}\", (0.02, 5))\n",
        "plt.legend()\n",
        "plt.xlabel(\"Diferença na taxa de conversão\"); plt.ylabel(\"Prob\");\n",
        "\n",
        "print(f\"zscore is {z_score:0.3f}, with p-value {norm().sf(z_score):0.3f}\")"
      ],
      "execution_count": null,
      "outputs": [
        {
          "output_type": "stream",
          "text": [
            "zscore is 1.890, with p-value 0.029\n"
          ],
          "name": "stdout"
        },
        {
          "output_type": "display_data",
          "data": {
            "image/png": "[encoded data removed]",
            "text/plain": [
              "<Figure size 432x288 with 1 Axes>"
            ]
          },
          "metadata": {
            "tags": [],
            "needs_background": "light"
          }
        }
      ]
    },
    {
      "cell_type": "markdown",
      "metadata": {
        "id": "KFR1u0xNQmyJ"
      },
      "source": [
        "Ótimo! Então, como expressar esse resultado? Usando nossa abordagem frequentista até agora, diríamos que, dada a hipótese nula ser verdadeira (que B é menor ou igual a A), esperaríamos obter esse resultado ou um resultado mais extremo apenas 2,9% das vezes. Como esse é um resultado significativo (normalmente p <5%), rejeitamos a hipótese nula e afirmamos que temos evidências de que B > A.\n",
        "\n",
        "Devemos observar explicitamente aqui que este é um teste unilateral - a pergunta que fizemos é se B > A. Uma alternativa é o teste bilateral, em que apenas queremos discriminar que B é diferente de A. Nesse caso, nosso valor p é realmente 2 × 2,9 = 5,8 por cento (já que temos duas caudas, não uma), e desejaríamos mais amostras antes de rejeitar a hipótese nula se nos limitarmos ao valor p de 0,05.\n",
        "\n",
        "No entanto, fizemos muitos gráficos para tentar explicar o conceito. Você pode facilmente escrever uma pequena função para simplificar tudo isso. Se você deseja a confiança ou o valor p, significa apenas alterar o final `norm.cdf` para `norm.sf`."
      ]
    },
    {
      "cell_type": "code",
      "metadata": {
        "colab": {
          "base_uri": "https://localhost:8080/"
        },
        "id": "sW-piddAPcSm",
        "outputId": "adb16647-ff3e-4221-d68f-b479a9f612f4"
      },
      "source": [
        "def get_confidence_ab_test(click_a, num_a, click_b, num_b):\n",
        "    rate_a = click_a / num_a\n",
        "    rate_b = click_b / num_b\n",
        "    std_a = np.sqrt(rate_a * (1 - rate_a) / num_a)\n",
        "    std_b = np.sqrt(rate_b * (1 - rate_b) / num_b)\n",
        "    z_score = (rate_b - rate_a) / np.sqrt(std_a**2 + std_b**2)\n",
        "    return norm.cdf(z_score)\n",
        "\n",
        "print(get_confidence_ab_test(click_a, num_a, click_b, num_b))"
      ],
      "execution_count": null,
      "outputs": [
        {
          "output_type": "stream",
          "text": [
            "0.9705973498275782\n"
          ],
          "name": "stdout"
        }
      ]
    },
    {
      "cell_type": "markdown",
      "metadata": {
        "id": "8SWIhxXKUNIg"
      },
      "source": [
        "#4.0 - Verificando se está correto\n",
        "E daí se não tivermos certeza de que fizemos as contas perfeitamente? Existe uma maneira de usarmos a força bruta para um cheque? Acontece que existe, mas não desde o início. Podemos começar em nossa aproximação normal e partir daí."
      ]
    },
    {
      "cell_type": "code",
      "metadata": {
        "colab": {
          "base_uri": "https://localhost:8080/"
        },
        "id": "vyqSVJcHRZlQ",
        "outputId": "a9d20982-1209-4e51-c95d-80f66338e13a"
      },
      "source": [
        "# 10.000 amostras de taxas possíveis para a e b\n",
        "n = 10000\n",
        "rates_a = norm(rate_a, std_a).rvs(n)\n",
        "rates_b = norm(rate_b, std_b).rvs(n)\n",
        "b_better = (rates_b > rates_a).sum() / n\n",
        "print(f\"B é melhor que A {b_better * 100:0.1f}% das vezes\")"
      ],
      "execution_count": null,
      "outputs": [
        {
          "output_type": "stream",
          "text": [
            "B é melhor que A 97.2% das vezes\n"
          ],
          "name": "stdout"
        }
      ]
    },
    {
      "cell_type": "markdown",
      "metadata": {
        "id": "cVotYxs7U8Oq"
      },
      "source": [
        "O que, reformulado para a linguagem anterior, é que A> B apenas 2,8% das vezes, o que é estatisticamente significativo de modo que podemos rejeitar nossa hipótese (que A <= B).\n",
        "\n",
        "Freqüentemente, é assim que faríamos análises mais complicadas, quando não há uma solução analítica. O poder da computação moderna abre muitas portas!"
      ]
    },
    {
      "cell_type": "markdown",
      "metadata": {
        "id": "1iMj6DF5Vt-5"
      },
      "source": [
        "#5.0 - Realizando os testes ainda mais rápido?\n",
        "Nós mesmos fizemos algumas contas, reduzindo as coisas a uma distribuição normal e fazendo um teste básico de diferença de médias. Mas `scipy` tem muitas coisas escondidas dentro dele para tornar nossas vidas mais fáceis. Aqui, imagine que temos os resultados brutos do click through, 0 ou 1, como nossa distribuição, e queremos usar um teste t embutido."
      ]
    },
    {
      "cell_type": "markdown",
      "metadata": {
        "id": "tRBVutBjWBZA"
      },
      "source": [
        "##5.1 - Teste t de Welsch"
      ]
    },
    {
      "cell_type": "code",
      "metadata": {
        "colab": {
          "base_uri": "https://localhost:8080/"
        },
        "id": "ESnZhbhjUtO6",
        "outputId": "cb5e53b3-ffc4-469b-e9ac-ba48df0d342e"
      },
      "source": [
        "from scipy.stats import ttest_ind\n",
        "\n",
        "a_dist = np.zeros(num_a)\n",
        "a_dist[:click_a] = 1\n",
        "b_dist = np.zeros(num_b)\n",
        "b_dist[:click_b] = 1\n",
        "zscore, prob = ttest_ind(a_dist, b_dist, equal_var=False)\n",
        "print(f\"Zscore é {zscore:0.2f}, p-value é {prob:0.3f} (bilateral), {prob/2:0.3f} (unilateral)\")"
      ],
      "execution_count": null,
      "outputs": [
        {
          "output_type": "stream",
          "text": [
            "Zscore é -1.89, p-value é 0.059 (bilateral), 0.030 (unilateral)\n"
          ],
          "name": "stdout"
        }
      ]
    },
    {
      "cell_type": "markdown",
      "metadata": {
        "id": "kmv6hZzJW4sP"
      },
      "source": [
        "Observe aqui que o valor p por padrão está usando o teste bilateral. Podemos ver que esses valores são quase idênticos aos que calculamos... mas não são exatamente iguais. Por que é isso? Bem, o ttest_ind (com equal_var=False) está executando o teste t de Welsch. O teste t tem graus de liberdade que irão induzir diferenças sutis com a aproximação normal. Além disso, o teste t de Welsch é destinado a dados contínuos, temos opções discretas 0 e 1. Uma opção melhor para dados discretos é a estatística U de Mann-Whitney."
      ]
    },
    {
      "cell_type": "markdown",
      "metadata": {
        "id": "Jxz2yUmKXMcX"
      },
      "source": [
        "##5.2 - Teste U de Mann-Whitney"
      ]
    },
    {
      "cell_type": "code",
      "metadata": {
        "colab": {
          "base_uri": "https://localhost:8080/"
        },
        "id": "-Q3GKeToXQsn",
        "outputId": "842b28e9-3521-4d8a-b3b9-55acda9fe4a6"
      },
      "source": [
        "from scipy.stats import mannwhitneyu\n",
        "\n",
        "stat, p_value = mannwhitneyu(a_dist, b_dist, alternative=\"less\")\n",
        "print(f\"Mann-Whitney U teste para hipótese nula B <= A é {p_value:0.3f}\")"
      ],
      "execution_count": null,
      "outputs": [
        {
          "output_type": "stream",
          "text": [
            "Mann-Whitney U teste para hipótese nula B <= A é 0.028\n"
          ],
          "name": "stdout"
        }
      ]
    },
    {
      "cell_type": "markdown",
      "metadata": {
        "id": "smR_A6JsXer3"
      },
      "source": [
        "Portanto, você pode ver que nosso valor de p é baixo e podemos rejeitar a hipótese nula. Notamos também que temos `alternative=\"less\"`, que é a hipótese nula que estamos testando para que possamos investigar se B > A.\n",
        "\n",
        "Mais uma vez, podemos ver uma resposta super semelhante ao que recebemos antes. Para os casos em que temos centenas de pontos de dados, essas respostas convergem rapidamente e você pode escolher o sabor que desejar."
      ]
    }
  ]
}